{
 "metadata": {
  "name": ""
 },
 "nbformat": 3,
 "nbformat_minor": 0,
 "worksheets": [
  {
   "cells": [
    {
     "cell_type": "code",
     "collapsed": false,
     "input": [
      "# d is in form 2013-10-23 but we want\n",
      "# in form 2013-23-10\n",
      "\n",
      "for d in dates:\n",
      "\tprint \"old = \", d\n",
      "\tb = d.split(\"-\")\n",
      "\tnew_date = b[0] + \"-\" + b[2] + \"-\" + b[1]\n",
      "\tprint \"new = \", new_date"
     ],
     "language": "python",
     "metadata": {},
     "outputs": []
    },
    {
     "cell_type": "code",
     "collapsed": false,
     "input": [
      "import csv"
     ],
     "language": "python",
     "metadata": {},
     "outputs": [],
     "prompt_number": 2
    },
    {
     "cell_type": "code",
     "collapsed": false,
     "input": [
      "f = open('30oysters.csv', 'rb')\n",
      "reader = csv.reader(f)\n",
      "index = 0\n",
      "header = \"\"\n",
      "for row in reader:\n",
      "    if index == 0:\n",
      "        header = row\n",
      "    else:\n",
      "        print row\n",
      "    index += 1\n",
      "f.close()"
     ],
     "language": "python",
     "metadata": {},
     "outputs": []
    },
    {
     "cell_type": "code",
     "collapsed": false,
     "input": [
      "#List manipulation:\n",
      "a = [\"a\", \"b\", \"c\", \"d\", \"e\", \"f\", \"g\", \"h\", \"i\", \"j\", \"k\"]\n",
      ".append(\"l\")\n",
      ".extend([\"l\", \"m\", \"n\"])\n",
      "len(a)\n",
      "a[1:3]\n",
      "a[0]\n",
      "a[1:]\n",
      "a[:5]\n",
      "a[:]\n",
      "a[-2:0]"
     ],
     "language": "python",
     "metadata": {},
     "outputs": []
    },
    {
     "cell_type": "code",
     "collapsed": false,
     "input": [
      "a = \"Alpine \\t\\t15.4    6.7\""
     ],
     "language": "python",
     "metadata": {},
     "outputs": [],
     "prompt_number": 1
    },
    {
     "cell_type": "code",
     "collapsed": false,
     "input": [
      "b = a.replace(\"\\t\", \" \")\n",
      "print b"
     ],
     "language": "python",
     "metadata": {},
     "outputs": [
      {
       "output_type": "stream",
       "stream": "stdout",
       "text": [
        "Alpine   15.4    6.7\n"
       ]
      }
     ],
     "prompt_number": 2
    },
    {
     "cell_type": "code",
     "collapsed": false,
     "input": [
      "c = b.split()\n",
      "print c"
     ],
     "language": "python",
     "metadata": {},
     "outputs": [
      {
       "output_type": "stream",
       "stream": "stdout",
       "text": [
        "['Alpine', '15.4', '6.7']\n"
       ]
      }
     ],
     "prompt_number": 3
    },
    {
     "cell_type": "code",
     "collapsed": false,
     "input": [
      "d = ['15', '4']\n",
      "e = [\"maya\", \"nicole\"]\n",
      "print d\n",
      "print map(float, d)"
     ],
     "language": "python",
     "metadata": {},
     "outputs": [
      {
       "output_type": "stream",
       "stream": "stdout",
       "text": [
        "['15', '4']\n",
        "[15.0, 4.0]\n"
       ]
      }
     ],
     "prompt_number": 4
    },
    {
     "cell_type": "code",
     "collapsed": false,
     "input": [
      "def meetify(string):\n",
      "    return string + \"-meet\"\n",
      "print map(meetify, d)"
     ],
     "language": "python",
     "metadata": {},
     "outputs": []
    },
    {
     "cell_type": "code",
     "collapsed": false,
     "input": [
      "f = open('30oysters.csv', 'rb')\n",
      "reader = csv.reader(f)\n",
      "rownum = 0\n",
      "weight = []\n",
      "vol = []\n",
      "for row in reader:\n",
      "    if rownum == 0:\n",
      "        header = row\n",
      "    else:\n",
      "        r = map(float, row[0].split())\n",
      "        weight.append(r[1])\n",
      "        vol.append(r[2])\n",
      "    rownum += 1\n",
      "f.close()"
     ],
     "language": "python",
     "metadata": {},
     "outputs": [],
     "prompt_number": 3
    },
    {
     "cell_type": "code",
     "collapsed": false,
     "input": [
      "from pylab import pylab"
     ],
     "language": "python",
     "metadata": {},
     "outputs": []
    },
    {
     "cell_type": "code",
     "collapsed": false,
     "input": [
      "scatter(weight, vol)"
     ],
     "language": "python",
     "metadata": {},
     "outputs": [
      {
       "metadata": {},
       "output_type": "pyout",
       "prompt_number": 4,
       "text": [
        "<matplotlib.collections.PathCollection at 0x2f80550>"
       ]
      },
      {
       "metadata": {},
       "output_type": "display_data",
       "png": "[encoded data removed]",
       "text": [
        "<matplotlib.figure.Figure at 0x2f51090>"
       ]
      }
     ],
     "prompt_number": 4
    },
    {
     "cell_type": "code",
     "collapsed": false,
     "input": [
      "fig = plt.figure()\n",
      "ax = fig.add_subplot(111)\n",
      "ax.set_title('Oyster weight and volume')\n",
      "ax.set_xlabel('Oyster weight (g)')\n",
      "ax.set_ylabel('Oyster volume (cc)')\n",
      "ax.scatter(weight, vol)\n",
      "fig.savefig(\"oyster_with_titles.png\")"
     ],
     "language": "python",
     "metadata": {},
     "outputs": [
      {
       "metadata": {},
       "output_type": "display_data",
       "png": "[encoded data removed]",
       "text": [
        "<matplotlib.figure.Figure at 0x346fa90>"
       ]
      }
     ],
     "prompt_number": 7
    },
    {
     "cell_type": "code",
     "collapsed": false,
     "input": [
      "n, bins, patches = pylab.hist(weight, 5)\n",
      "print bins"
     ],
     "language": "python",
     "metadata": {},
     "outputs": []
    },
    {
     "cell_type": "code",
     "collapsed": false,
     "input": [
      "# IF WE GET TO IT AND IT SEEMS RIGHT\n",
      "fig = plt.figure()\n",
      "ax2 = fig.add_subplot(111)\n",
      "bins = [0, 10, 13, 100]\n",
      "n, bins, patches = ax1.hist(weight, bins=bins)\n",
      "b = ax2.bar([1, 2, 3], n, width=0.75, align='center')\n",
      "xtickmarks = [\"\", \"small\", \"\", \"medium\", \"\", \"large\"]\n",
      "l = ax2.set_xticklabels(xtickmarks)\n",
      "ax2.set_title('Number of oyster sizes')\n",
      "ax2.set_xlabel('Oyster size character')\n",
      "yl = ax2.set_ylabel('Count')"
     ],
     "language": "python",
     "metadata": {},
     "outputs": []
    }
   ],
   "metadata": {}
  }
 ]
}